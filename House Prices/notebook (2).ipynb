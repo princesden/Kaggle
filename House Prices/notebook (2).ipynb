{
  "metadata": {
    "kernelspec": {
      "name": "python"
    },
    "language_info": {
      "name": "python",
      "version": "3.5.1"
    }
  },
  "nbformat": 4,
  "nbformat_minor": 0,
  "cells": [
    {
      "cell_type": "markdown",
      "source": "As the name says, all I am doing here is cleaning the data - more specifically, replacing missing values in the training data. The result should be the starting point for further exploration and/or feature engineering. In order to build the actual model, further steps will have to be taken.",
      "metadata": {}
    },
    {
      "cell_type": "code",
      "source": "# This Python 3 environment comes with many helpful analytics libraries installed\n# It is defined by the kaggle/python docker image: https://github.com/kaggle/docker-python\n# For example, here's several helpful packages to load in \n\nimport numpy as np # linear algebra\nimport pandas as pd # data processing, CSV file I/O (e.g. pd.read_csv)\n\n# Input data files are available in the \"../input/\" directory.\n# For example, running this (by clicking run or pressing Shift+Enter) will list the files in the input directory\n\nfrom subprocess import check_output\nprint(check_output([\"ls\", \"../input\"]).decode(\"utf8\"))\n\n# Any results you write to the current directory are saved as output.",
      "execution_count": null,
      "outputs": [],
      "metadata": {}
    },
    {
      "cell_type": "code",
      "source": "houseprice=pd.read_csv('../input/train.csv')\nhouseprice.head()",
      "execution_count": null,
      "outputs": [],
      "metadata": {}
    },
    {
      "cell_type": "markdown",
      "source": "You can already see that there are NaNs in some columns. So let's see where exactly and how many",
      "metadata": {}
    },
    {
      "cell_type": "code",
      "source": "# To check how many columns have missing values - this can be repeated to see the progress made\ndef show_missing():\n    missing = houseprice.columns[houseprice.isnull().any()].tolist()\n    return missing",
      "execution_count": null,
      "outputs": [],
      "metadata": {}
    },
    {
      "cell_type": "code",
      "source": "houseprice[show_missing()].isnull().sum()",
      "execution_count": null,
      "outputs": [],
      "metadata": {}
    },
    {
      "cell_type": "markdown",
      "source": "## Data Cleaning Plan\nLet's look at these variables in the data dictionary:\n\n* LotFrontage: Linear feet of street connected to property. I can't imagine that this would be 0 (as this would be a property without access), so either impute mean, or maybe see if there's a correlation with LotArea (like square root?).\n\n* Alley: Type of alley access to property -> Many missing values, I would presume that these properties just don't have an alley access.\n\n* MasVnrType/MasVnrArea -> both have 8 values missing, I presume they are the same ones. Either set as \"None\"/0 or use most frequent value/median.\n\n* Bsmt... Variables: A  number of variables in connection with the basement. About the same number of missing values. However, there are two basement-related variables without missing values \"BsmtFinSF1\" and \"BsmtFinSF2\" - look at those and then decide what to do with the missing values.\n\n* Electrical: Just one missing value - here just impute most frequent one.\n\n* FireplaceQu: I assume the properties with missing values just don't have a fireplace. There's also the variable Fireplaces (without missing values) - check this and then decide.\n\n* Garage ... Variables: 81 missing in these columns. However, there are some Garage-related variables without missing values: GarageCars, GarageArea - check these and then decide.\n\n* PoolQC - probably no pool - but check against PoolArea (which has no missing values).\n\n* Fence: Many missing values - probably no fence, just impute 'None'\n\n* MiscFeature: Assuming none - probably no special features, just impute 'None'",
      "metadata": {}
    },
    {
      "cell_type": "code",
      "source": "# Looking at categorical values\ndef cat_exploration(column):\n    return houseprice[column].value_counts()",
      "execution_count": null,
      "outputs": [],
      "metadata": {}
    },
    {
      "cell_type": "code",
      "source": "# Imputing the missing values\ndef cat_imputation(column, value):\n    houseprice.loc[houseprice[column].isnull(),column] = value",
      "execution_count": null,
      "outputs": [],
      "metadata": {}
    },
    {
      "cell_type": "markdown",
      "source": "### LotFrontage/LotArea\nA number of values are missing and one possibility would be to just impute the mean. However, there should actually be a correlation with LotArea, which has no missing values.",
      "metadata": {}
    },
    {
      "cell_type": "code",
      "source": "# check correlation with LotArea\nhouseprice['LotFrontage'].corr(houseprice['LotArea'])",
      "execution_count": null,
      "outputs": [],
      "metadata": {}
    },
    {
      "cell_type": "markdown",
      "source": "Ok, that's not great. I we assume that most lots are rectangular, using the square root might be an improvement. ",
      "metadata": {}
    },
    {
      "cell_type": "code",
      "source": "# improvement - and good enough for now\nhouseprice['SqrtLotArea']=np.sqrt(houseprice['LotArea'])\nhouseprice['LotFrontage'].corr(houseprice['SqrtLotArea'])",
      "execution_count": null,
      "outputs": [],
      "metadata": {}
    },
    {
      "cell_type": "code",
      "source": "import seaborn as sns\n%pylab inline\nsns.pairplot(houseprice[['LotFrontage','SqrtLotArea']].dropna())",
      "execution_count": null,
      "outputs": [],
      "metadata": {}
    },
    {
      "cell_type": "code",
      "source": "cond = houseprice['LotFrontage'].isnull()\nhouseprice.LotFrontage[cond]=houseprice.SqrtLotArea[cond]",
      "execution_count": null,
      "outputs": [],
      "metadata": {}
    },
    {
      "cell_type": "code",
      "source": "# This column is not needed anymore\ndel houseprice['SqrtLotArea']",
      "execution_count": null,
      "outputs": [],
      "metadata": {}
    },
    {
      "cell_type": "markdown",
      "source": "### Alley",
      "metadata": {}
    },
    {
      "cell_type": "code",
      "source": "cat_exploration('Alley')",
      "execution_count": null,
      "outputs": [],
      "metadata": {}
    },
    {
      "cell_type": "code",
      "source": "# I assume empty fields here mean no alley access\ncat_imputation('Alley','None')",
      "execution_count": null,
      "outputs": [],
      "metadata": {}
    },
    {
      "cell_type": "markdown",
      "source": "### MasVnr",
      "metadata": {}
    },
    {
      "cell_type": "code",
      "source": "houseprice[['MasVnrType','MasVnrArea']][houseprice['MasVnrType'].isnull()==True]",
      "execution_count": null,
      "outputs": [],
      "metadata": {}
    },
    {
      "cell_type": "markdown",
      "source": "So the missing values for the \"MasVnr...\" Variables are in the same rows.",
      "metadata": {}
    },
    {
      "cell_type": "code",
      "source": "cat_exploration('MasVnrType')",
      "execution_count": null,
      "outputs": [],
      "metadata": {}
    },
    {
      "cell_type": "markdown",
      "source": "Since \"None\" is the most frequent value, I will impute \"None\" for the Type, and 0.0 for the area.",
      "metadata": {}
    },
    {
      "cell_type": "code",
      "source": "cat_imputation('MasVnrType', 'None')\ncat_imputation('MasVnrArea', 0.0)",
      "execution_count": null,
      "outputs": [],
      "metadata": {}
    },
    {
      "cell_type": "markdown",
      "source": "### Basement",
      "metadata": {}
    },
    {
      "cell_type": "code",
      "source": "basement_cols=['BsmtQual','BsmtCond','BsmtExposure','BsmtFinType1','BsmtFinType2','BsmtFinSF1','BsmtFinSF2']\nhouseprice[basement_cols][houseprice['BsmtQual'].isnull()==True]",
      "execution_count": null,
      "outputs": [],
      "metadata": {}
    },
    {
      "cell_type": "markdown",
      "source": "So in the cases where the categorical variables are NaN, the numerical ones are 0. Which means there's no basement, so the categorical ones should also be set to \"None\".",
      "metadata": {}
    },
    {
      "cell_type": "code",
      "source": "for cols in basement_cols:\n    if 'FinSF'not in cols:\n        cat_imputation(cols,'None')",
      "execution_count": null,
      "outputs": [],
      "metadata": {}
    },
    {
      "cell_type": "markdown",
      "source": "### Electrical",
      "metadata": {}
    },
    {
      "cell_type": "code",
      "source": "cat_exploration('Electrical')",
      "execution_count": null,
      "outputs": [],
      "metadata": {}
    },
    {
      "cell_type": "code",
      "source": "# Impute most frequent value\ncat_imputation('Electrical','SBrkr')",
      "execution_count": null,
      "outputs": [],
      "metadata": {}
    },
    {
      "cell_type": "markdown",
      "source": "### Fireplace",
      "metadata": {}
    },
    {
      "cell_type": "code",
      "source": "cat_exploration('FireplaceQu')",
      "execution_count": null,
      "outputs": [],
      "metadata": {}
    },
    {
      "cell_type": "markdown",
      "source": "I would assume that the 690 just don't have a fireplace. Let's check:",
      "metadata": {}
    },
    {
      "cell_type": "code",
      "source": "houseprice['Fireplaces'][houseprice['FireplaceQu'].isnull()==True].describe()",
      "execution_count": null,
      "outputs": [],
      "metadata": {}
    },
    {
      "cell_type": "code",
      "source": "cat_imputation('FireplaceQu','None')",
      "execution_count": null,
      "outputs": [],
      "metadata": {}
    },
    {
      "cell_type": "code",
      "source": "pd.crosstab(houseprice.Fireplaces, houseprice.FireplaceQu)",
      "execution_count": null,
      "outputs": [],
      "metadata": {}
    },
    {
      "cell_type": "markdown",
      "source": "### Garages",
      "metadata": {}
    },
    {
      "cell_type": "code",
      "source": "garage_cols=['GarageType','GarageQual','GarageCond','GarageYrBlt','GarageFinish','GarageCars','GarageArea']\nhouseprice[garage_cols][houseprice['GarageType'].isnull()==True]",
      "execution_count": null,
      "outputs": [],
      "metadata": {}
    },
    {
      "cell_type": "code",
      "source": "#Garage Imputation\nfor cols in garage_cols:\n    if houseprice[cols].dtype==np.object:\n        cat_imputation(cols,'None')\n    else:\n        cat_imputation(cols, 0)",
      "execution_count": null,
      "outputs": [],
      "metadata": {}
    },
    {
      "cell_type": "markdown",
      "source": "### Pool",
      "metadata": {}
    },
    {
      "cell_type": "code",
      "source": "cat_exploration('PoolQC')",
      "execution_count": null,
      "outputs": [],
      "metadata": {}
    },
    {
      "cell_type": "markdown",
      "source": "Many missing values - are they all without a pool?",
      "metadata": {}
    },
    {
      "cell_type": "code",
      "source": "houseprice['PoolArea'][houseprice['PoolQC'].isnull()==True].describe()",
      "execution_count": null,
      "outputs": [],
      "metadata": {}
    },
    {
      "cell_type": "markdown",
      "source": "Yes, seems like it - if PoolQC is empty, PoolArea is 0",
      "metadata": {}
    },
    {
      "cell_type": "code",
      "source": "cat_imputation('PoolQC', 'None')",
      "execution_count": null,
      "outputs": [],
      "metadata": {}
    },
    {
      "cell_type": "markdown",
      "source": "### Fence",
      "metadata": {}
    },
    {
      "cell_type": "code",
      "source": "cat_imputation('Fence', 'None')",
      "execution_count": null,
      "outputs": [],
      "metadata": {}
    },
    {
      "cell_type": "markdown",
      "source": "### MiscFeature",
      "metadata": {}
    },
    {
      "cell_type": "code",
      "source": "cat_imputation('MiscFeature', 'None')",
      "execution_count": null,
      "outputs": [],
      "metadata": {}
    },
    {
      "cell_type": "markdown",
      "source": "### Are we done?",
      "metadata": {}
    },
    {
      "cell_type": "code",
      "source": "houseprice[show_missing()].isnull().sum()",
      "execution_count": null,
      "outputs": [],
      "metadata": {}
    },
    {
      "cell_type": "markdown",
      "source": "Yes, all missing values are gone!",
      "metadata": {}
    }
  ]
}