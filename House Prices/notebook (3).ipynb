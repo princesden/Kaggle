{
  "metadata": {
    "kernelspec": {
      "name": "python"
    },
    "language_info": {
      "name": "python",
      "version": "3.5.1"
    }
  },
  "nbformat": 4,
  "nbformat_minor": 0,
  "cells": [
    {
      "cell_type": "markdown",
      "source": "## Introduction\n\n**_Poonam Ligade_**\n\n*30th Jan 2017*\n\nI am trying to predict for how much money each house can be sold??\n\nIn this mainly we will look at data exploration and visulisation part\n\nEDA is often most tedious and boring job.\n\nBut the more time you spend here on understanding, cleaning and preparing data the better fruits your predictive model will bare!!\n\nLets start.\n\n1) **Introduction**\n\n  1. Import Libraries\n  2. Load data\n  3. Variable Identification\n  4. Run Statistical summaries\n  5. Correlation with target variable\n\n \n2) **Missing values imputation**\n\n  1. Figure out missing value columns\n  2. Fill out missing values\n\n\n3) **Visualisations**\n\n 1. Univariate Analysis\n 2. Bivariate Analysis",
      "metadata": {}
    },
    {
      "cell_type": "markdown",
      "source": "**Import libraries**\n====================",
      "metadata": {}
    },
    {
      "cell_type": "code",
      "source": "import pandas as pd\nimport numpy as np\n\nimport matplotlib.pyplot as plt\n% matplotlib inline\nimport seaborn as sns\nsns.set(style=\"whitegrid\", color_codes=True)\nsns.set(font_scale=1)",
      "execution_count": null,
      "outputs": [],
      "metadata": {}
    },
    {
      "cell_type": "markdown",
      "source": "**Load train & test data**\n====================",
      "metadata": {}
    },
    {
      "cell_type": "code",
      "source": "houses=pd.read_csv(\"../input/train.csv\")\nhouses.head()",
      "execution_count": null,
      "outputs": [],
      "metadata": {}
    },
    {
      "cell_type": "code",
      "source": "houses_test = pd.read_csv(\"../input/test.csv\")\n#transpose\nhouses_test.head()\n#note their is no \"SalePrice\" column here which is our target varible.",
      "execution_count": null,
      "outputs": [],
      "metadata": {}
    },
    {
      "cell_type": "code",
      "source": "#shape command will give number of rows/samples/examples and number of columns/features/predictors in dataset\n#(rows,columns)\nhouses.shape",
      "execution_count": null,
      "outputs": [],
      "metadata": {}
    },
    {
      "cell_type": "markdown",
      "source": "There are total **1460 samples** which we can use to train model and **80 features** and **1 target variable.**",
      "metadata": {}
    },
    {
      "cell_type": "code",
      "source": "houses_test.shape\n#1 column less because target variable isn't there in test set!",
      "execution_count": null,
      "outputs": [],
      "metadata": {}
    },
    {
      "cell_type": "markdown",
      "source": "*Variable Identification*\n-----------------------",
      "metadata": {}
    },
    {
      "cell_type": "code",
      "source": "#info method provides information about dataset like \n#total values in each column, null/not null, datatype, memory occupied etc\nhouses.info()",
      "execution_count": null,
      "outputs": [],
      "metadata": {}
    },
    {
      "cell_type": "code",
      "source": "#How many columns with different datatypes are there?\nhouses.get_dtype_counts()",
      "execution_count": null,
      "outputs": [],
      "metadata": {}
    },
    {
      "cell_type": "code",
      "source": "##Describe gives statistical information about numerical columns in the dataset\nhouses.describe()",
      "execution_count": null,
      "outputs": [],
      "metadata": {}
    },
    {
      "cell_type": "markdown",
      "source": "**Correlation in Data**\n====================",
      "metadata": {}
    },
    {
      "cell_type": "code",
      "source": "corr=houses.corr()[\"SalePrice\"]\ncorr[np.argsort(corr, axis=0)[::-1]]",
      "execution_count": null,
      "outputs": [],
      "metadata": {}
    },
    {
      "cell_type": "markdown",
      "source": "OverallQual ,GrLivArea ,GarageCars,GarageArea ,TotalBsmtSF, 1stFlrSF     ,FullBath,TotRmsAbvGrd,YearBuilt, YearRemodAdd have more than 0.5 correlation with SalePrice. \n\nEnclosedPorch and KitchenAbvGr  have little negative correlation with target variable.\n\nThese can prove to be important features to predict SalePrice.",
      "metadata": {}
    },
    {
      "cell_type": "code",
      "source": "#plotting correlations\nnum_feat=houses.columns[houses.dtypes!=object]\nnum_feat=num_feat[1:-1] \nlabels = []\nvalues = []\nfor col in num_feat:\n    labels.append(col)\n    values.append(np.corrcoef(houses[col].values, houses.SalePrice.values)[0,1])\n    \nind = np.arange(len(labels))\nwidth = 0.9\nfig, ax = plt.subplots(figsize=(12,40))\nrects = ax.barh(ind, np.array(values), color='red')\nax.set_yticks(ind+((width)/2.))\nax.set_yticklabels(labels, rotation='horizontal')\nax.set_xlabel(\"Correlation coefficient\")\nax.set_title(\"Correlation Coefficients w.r.t Sale Price\");",
      "execution_count": null,
      "outputs": [],
      "metadata": {}
    },
    {
      "cell_type": "code",
      "source": "correlations=houses.corr()\nattrs = correlations.iloc[:-1,:-1] # all except target\n\nthreshold = 0.5\nimportant_corrs = (attrs[abs(attrs) > threshold][attrs != 1.0]) \\\n    .unstack().dropna().to_dict()\n\nunique_important_corrs = pd.DataFrame(\n    list(set([(tuple(sorted(key)), important_corrs[key]) \\\n    for key in important_corrs])), \n        columns=['Attribute Pair', 'Correlation'])\n\n    # sorted by absolute value\nunique_important_corrs = unique_important_corrs.ix[\n    abs(unique_important_corrs['Correlation']).argsort()[::-1]]\n\nunique_important_corrs",
      "execution_count": null,
      "outputs": [],
      "metadata": {}
    },
    {
      "cell_type": "markdown",
      "source": "This shows multicollinearity.\nIn regression, \"multicollinearity\" refers to features that are correlated with other features.  Multicollinearity occurs when your model includes multiple factors that are correlated not just to your target variable, but also to each other.\n\nProblem:\n\nMulticollinearity increases the standard errors of the coefficients.\nThat means, multicollinearity makes some variables statistically insignificant when they should be significant.\n\nTo avoid this we can do 3 things:\n\n1. Completely remove those variables\n2. Make new feature by adding them or by some other operation.\n3. Use PCA, which will reduce feature set to small number of non-collinear features.\n\nReference:http://blog.minitab.com/blog/understanding-statistics/handling-multicollinearity-in-regression-analysis",
      "metadata": {}
    },
    {
      "cell_type": "markdown",
      "source": "**Heatmap**\n-----------",
      "metadata": {}
    },
    {
      "cell_type": "code",
      "source": "corrMatrix=houses[[\"SalePrice\",\"OverallQual\",\"GrLivArea\",\"GarageCars\",\n                  \"GarageArea\",\"GarageYrBlt\",\"TotalBsmtSF\",\"1stFlrSF\",\"FullBath\",\n                  \"TotRmsAbvGrd\",\"YearBuilt\",\"YearRemodAdd\"]].corr()\n\nsns.set(font_scale=1.10)\nplt.figure(figsize=(10, 10))\n\nsns.heatmap(corrMatrix, vmax=.8, linewidths=0.01,\n            square=True,annot=True,cmap='viridis',linecolor=\"white\")\nplt.title('Correlation between features');",
      "execution_count": null,
      "outputs": [],
      "metadata": {}
    },
    {
      "cell_type": "markdown",
      "source": "As we saw above there are few feature which shows high multicollinearity from heatmap.\nLets focus on yellow squares on diagonal line.\n\nGrLivArea and GarageCars\n\nTotalBsmtSF and 1stFlrSF\n\nFullBath and TotRmsAbvGrd\n\nYearBulit and YearRemodelAdd.\n\nWe have to create a single feature from them before we use them as predictors.\n",
      "metadata": {}
    },
    {
      "cell_type": "markdown",
      "source": "*Pivotal Features*\n------------------------",
      "metadata": {}
    },
    {
      "cell_type": "code",
      "source": "houses[['OverallQual','SalePrice']].groupby(['OverallQual'],\nas_index=False).mean().sort_values(by='OverallQual', ascending=False)",
      "execution_count": null,
      "outputs": [],
      "metadata": {}
    },
    {
      "cell_type": "code",
      "source": "houses[['GarageCars','SalePrice']].groupby(['GarageCars'],\nas_index=False).mean().sort_values(by='GarageCars', ascending=False)",
      "execution_count": null,
      "outputs": [],
      "metadata": {}
    },
    {
      "cell_type": "code",
      "source": "houses[['Fireplaces','SalePrice']].groupby(['Fireplaces'],\nas_index=False).mean().sort_values(by='Fireplaces', ascending=False)",
      "execution_count": null,
      "outputs": [],
      "metadata": {}
    },
    {
      "cell_type": "markdown",
      "source": "*Visualising Target variable*\n-----------------",
      "metadata": {}
    },
    {
      "cell_type": "markdown",
      "source": "*Univariate Analysis*\n--------------------\n\nHow 1 single variable is distributed in numeric range.\nWhat is statistical summary of it.\nIs it positively skewed or negatively.",
      "metadata": {}
    },
    {
      "cell_type": "code",
      "source": "sns.distplot(houses['SalePrice'], color=\"r\")\nplt.title(\"Distribution of Sale Price\")\nplt.ylabel(\"Number of Occurences\")\nplt.xlabel(\"Sale Price\");",
      "execution_count": null,
      "outputs": [],
      "metadata": {}
    },
    {
      "cell_type": "markdown",
      "source": "Prices are right skewed and  graph shows some peakedness.",
      "metadata": {}
    },
    {
      "cell_type": "code",
      "source": "#skewness  \n\nhouses['SalePrice'].skew()",
      "execution_count": null,
      "outputs": [],
      "metadata": {}
    },
    {
      "cell_type": "code",
      "source": "#kurtosis\n\nhouses['SalePrice'].kurt()",
      "execution_count": null,
      "outputs": [],
      "metadata": {}
    },
    {
      "cell_type": "code",
      "source": "#there are some outliers.lets remove them.\nupperlimit = np.percentile(houses.SalePrice.values, 99.5)\nhouses['SalePrice'].ix[houses['SalePrice']>upperlimit] = upperlimit\n\nplt.scatter(range(houses.shape[0]), houses[\"SalePrice\"].values,color='orange')\nplt.title(\"Distribution of Sale Price\")\nplt.xlabel(\"Number of Occurences\")\nplt.ylabel(\"Sale Price\");",
      "execution_count": null,
      "outputs": [],
      "metadata": {}
    },
    {
      "cell_type": "markdown",
      "source": "**Missing Value Imputation**\n====================\n\n\nMissing values in the training data set can affect prediction or classification of a model negatively.\n\nAlso some machine learning algorithms can't accept missing data eg. SVM.\n\nBut filling missing values with mean/median/mode or using another predictive model to predict missing values is also a prediction which may not be 100% accurate, instead you can use models like Decision Trees and Random Forest which handle missing values very well.\n\nSome of this part is based on this kernel:\nhttps://www.kaggle.com/bisaria/house-prices-advanced-regression-techniques/handling-missing-data",
      "metadata": {}
    },
    {
      "cell_type": "code",
      "source": "#lets see if there are any columns with missing values \nnull_columns=houses.columns[houses.isnull().any()]\nhouses[null_columns].isnull().sum()",
      "execution_count": null,
      "outputs": [],
      "metadata": {}
    },
    {
      "cell_type": "code",
      "source": "labels = []\nvalues = []\nfor col in null_columns:\n    labels.append(col)\n    values.append(houses[col].isnull().sum())\nind = np.arange(len(labels))\nwidth = 0.9\nfig, ax = plt.subplots(figsize=(12,50))\nrects = ax.barh(ind, np.array(values), color='violet')\nax.set_yticks(ind+((width)/2.))\nax.set_yticklabels(labels, rotation='horizontal')\nax.set_xlabel(\"Count of missing values\")\nax.set_ylabel(\"Column Names\")\nax.set_title(\"Variables with missing values\");",
      "execution_count": null,
      "outputs": [],
      "metadata": {}
    },
    {
      "cell_type": "markdown",
      "source": "*Multivariate Analysis*\n--------------------\n\nWhen we understand how 3 or more variables behave according to each other.",
      "metadata": {}
    },
    {
      "cell_type": "markdown",
      "source": "*LotFrontage*\n-------------\n\nWe can see if there is some correlation between LotArea and LotFrontage",
      "metadata": {}
    },
    {
      "cell_type": "code",
      "source": "houses['LotFrontage'].corr(houses['LotArea'])",
      "execution_count": null,
      "outputs": [],
      "metadata": {}
    },
    {
      "cell_type": "markdown",
      "source": "This is not great, we will try some polynomial expressions like squareroot ",
      "metadata": {}
    },
    {
      "cell_type": "code",
      "source": "houses['SqrtLotArea']=np.sqrt(houses['LotArea'])\nhouses['LotFrontage'].corr(houses['SqrtLotArea'])",
      "execution_count": null,
      "outputs": [],
      "metadata": {}
    },
    {
      "cell_type": "markdown",
      "source": "0.60 looks good to go.",
      "metadata": {}
    },
    {
      "cell_type": "code",
      "source": "sns.jointplot(houses['LotFrontage'],houses['SqrtLotArea'],color='gold');",
      "execution_count": null,
      "outputs": [],
      "metadata": {}
    },
    {
      "cell_type": "code",
      "source": "filter = houses['LotFrontage'].isnull()\nhouses.LotFrontage[filter]=houses.SqrtLotArea[filter]",
      "execution_count": null,
      "outputs": [],
      "metadata": {}
    },
    {
      "cell_type": "markdown",
      "source": "*MasVnrType and MasVnrArea*\n===========================",
      "metadata": {}
    },
    {
      "cell_type": "code",
      "source": "plt.scatter(houses[\"MasVnrArea\"],houses[\"SalePrice\"])\nplt.title(\"MasVnrArea Vs SalePrice \")\nplt.ylabel(\"SalePrice\")\nplt.xlabel(\"Mas Vnr Area in sq feet\");",
      "execution_count": null,
      "outputs": [],
      "metadata": {}
    },
    {
      "cell_type": "code",
      "source": "sns.boxplot(\"MasVnrType\",\"SalePrice\",data=houses);",
      "execution_count": null,
      "outputs": [],
      "metadata": {}
    },
    {
      "cell_type": "code",
      "source": "houses[\"MasVnrType\"] = houses[\"MasVnrType\"].fillna('None')\nhouses[\"MasVnrArea\"] = houses[\"MasVnrArea\"].fillna(0.0)",
      "execution_count": null,
      "outputs": [],
      "metadata": {}
    },
    {
      "cell_type": "markdown",
      "source": "*Bivariate Analysis*\n--------------------\n\nWhen we try to figure out how 2 parameters in dataset are related to each other. in the sense when one decreases, other also decreases or when one increases other also increases i.e Positive Correlation \n\nAnd  when one increases , other decreases or vice versa i .e Negative correlation.",
      "metadata": {}
    },
    {
      "cell_type": "markdown",
      "source": "*Electrical*\n------------",
      "metadata": {}
    },
    {
      "cell_type": "code",
      "source": "sns.boxplot(\"Electrical\",\"SalePrice\",data=houses)\nplt.title(\"Electrical Vs SalePrice \")\nplt.ylabel(\"SalePrice\")\nplt.xlabel(\"Electrical\");",
      "execution_count": null,
      "outputs": [],
      "metadata": {}
    },
    {
      "cell_type": "code",
      "source": "#We can replace missing values with most frequent ones.\nhouses[\"Electrical\"] = houses[\"Electrical\"].fillna('SBrkr')",
      "execution_count": null,
      "outputs": [],
      "metadata": {}
    },
    {
      "cell_type": "markdown",
      "source": "*Alley*\n-------",
      "metadata": {}
    },
    {
      "cell_type": "code",
      "source": "sns.stripplot(x=houses[\"Alley\"], y=houses[\"SalePrice\"],jitter=True);",
      "execution_count": null,
      "outputs": [],
      "metadata": {}
    },
    {
      "cell_type": "markdown",
      "source": "All missing value indicate that particular house doesn't have an alley access.we can replace it with 'None'.",
      "metadata": {}
    },
    {
      "cell_type": "code",
      "source": "houses[\"Alley\"] = houses[\"Alley\"].fillna('None')",
      "execution_count": null,
      "outputs": [],
      "metadata": {}
    },
    {
      "cell_type": "markdown",
      "source": "*Basement Features*\n-------------------",
      "metadata": {}
    },
    {
      "cell_type": "code",
      "source": "plt.scatter(houses[\"TotalBsmtSF\"],houses[\"SalePrice\"])\nplt.title(\"Total Basement area in Square Feet Vs SalePrice \")\nplt.ylabel(\"SalePrice\")\nplt.xlabel(\"Total Basement area in Square Feet\");",
      "execution_count": null,
      "outputs": [],
      "metadata": {}
    },
    {
      "cell_type": "code",
      "source": "#there are few outliers in total basement area lets remove them\nupperlimit = np.percentile(houses.TotalBsmtSF.values, 99.5)\nhouses['TotalBsmtSF'].ix[houses['TotalBsmtSF']>upperlimit] = upperlimit\n\nplt.scatter(houses.TotalBsmtSF, houses[\"SalePrice\"].values,color='orange')\nplt.title(\"TotalBsmtSF Vs SalePrice \")\nplt.ylabel(\"SalePrice\")\nplt.xlabel(\"Total Basement in sq feet\");",
      "execution_count": null,
      "outputs": [],
      "metadata": {}
    },
    {
      "cell_type": "code",
      "source": "basement_cols=['BsmtQual','BsmtCond','BsmtExposure','BsmtFinType1','BsmtFinType2','BsmtFinSF1','BsmtFinSF2']\nhouses[basement_cols][houses['BsmtQual'].isnull()==True]",
      "execution_count": null,
      "outputs": [],
      "metadata": {}
    },
    {
      "cell_type": "markdown",
      "source": "All categorical variables contains NAN whereas continuous ones have 0.\nSo that means there is no basement for those houses.\nwe can replace it with 'None'.",
      "metadata": {}
    },
    {
      "cell_type": "code",
      "source": "for col in basement_cols:\n    if 'FinSF'not in col:\n        houses[col] = houses[col].fillna('None')",
      "execution_count": null,
      "outputs": [],
      "metadata": {}
    },
    {
      "cell_type": "markdown",
      "source": "*Fireplaces*\n------------",
      "metadata": {}
    },
    {
      "cell_type": "code",
      "source": "sns.factorplot(\"Fireplaces\",\"SalePrice\",data=houses,hue=\"FireplaceQu\");",
      "execution_count": null,
      "outputs": [],
      "metadata": {}
    },
    {
      "cell_type": "markdown",
      "source": "Having 2 fireplaces increases house price and fireplace of Excellent quality is a big plus. ",
      "metadata": {}
    },
    {
      "cell_type": "code",
      "source": "#If fireplace quality is missing that means that house doesn't have a fireplace\nhouses[\"FireplaceQu\"] = houses[\"FireplaceQu\"].fillna('None')\npd.crosstab(houses.Fireplaces, houses.FireplaceQu)",
      "execution_count": null,
      "outputs": [],
      "metadata": {}
    },
    {
      "cell_type": "markdown",
      "source": "*Garages*\n---------",
      "metadata": {}
    },
    {
      "cell_type": "code",
      "source": "sns.distplot(houses[\"GarageArea\"],color='r');",
      "execution_count": null,
      "outputs": [],
      "metadata": {}
    },
    {
      "cell_type": "code",
      "source": "#GarageArea has got some outliers lets remove them.\nupperlimit = np.percentile(houses.GarageArea.values, 99.5)\nhouses['GarageArea'].ix[houses['GarageArea']>upperlimit] = upperlimit\n\nplt.scatter(houses.GarageArea, houses[\"SalePrice\"].values,color='violet')\nplt.title(\"Garage Area Vs SalePrice \")\nplt.ylabel(\"SalePrice\")\nplt.xlabel(\"Garage Area in sq feet\");",
      "execution_count": null,
      "outputs": [],
      "metadata": {}
    },
    {
      "cell_type": "code",
      "source": "sns.violinplot(houses[\"GarageCars\"],houses[\"SalePrice\"])\nplt.title(\"Garage Cars Vs SalePrice \")\nplt.ylabel(\"SalePrice\")\nplt.xlabel(\"Number of Garage cars\");",
      "execution_count": null,
      "outputs": [],
      "metadata": {}
    },
    {
      "cell_type": "code",
      "source": "garage_cols=['GarageType','GarageQual','GarageCond','GarageYrBlt','GarageFinish','GarageCars','GarageArea']\nhouses[garage_cols][houses['GarageType'].isnull()==True]",
      "execution_count": null,
      "outputs": [],
      "metadata": {}
    },
    {
      "cell_type": "markdown",
      "source": "All garage related features are missing values in same rows.\nthat means we can replace categorical variables with None and continuous ones with 0.",
      "metadata": {}
    },
    {
      "cell_type": "code",
      "source": "for col in garage_cols:\n    if houses[col].dtype==np.object:\n        houses[col] = houses[col].fillna('None')\n    else:\n        houses[col] = houses[col].fillna(0)",
      "execution_count": null,
      "outputs": [],
      "metadata": {}
    },
    {
      "cell_type": "markdown",
      "source": "*Pool*\n-----------------------",
      "metadata": {}
    },
    {
      "cell_type": "code",
      "source": "#If PoolArea is 0, that means that house doesn't have a pool.\n#So we can replace PoolQuality with None.\nhouses[\"PoolQC\"] = houses[\"PoolQC\"].fillna('None')\nsns.factorplot(\"PoolArea\",\"SalePrice\",data=houses,hue=\"PoolQC\",kind='bar')\nplt.title(\"Pool Area , Pool quality and SalePrice \")\nplt.ylabel(\"SalePrice\")\nplt.xlabel(\"Pool Area in sq feet\");",
      "execution_count": null,
      "outputs": [],
      "metadata": {}
    },
    {
      "cell_type": "markdown",
      "source": "*Fence*\n-----------------------",
      "metadata": {}
    },
    {
      "cell_type": "code",
      "source": "sns.violinplot(houses[\"Fence\"],houses[\"SalePrice\"])\nplt.title(\"Fence wrt SalePrice \")\nplt.ylabel(\"SalePrice\")\nplt.xlabel(\"Type of Fence\");",
      "execution_count": null,
      "outputs": [],
      "metadata": {}
    },
    {
      "cell_type": "markdown",
      "source": "Fence has got 1179 null values.\nWe can safely assume that those houses doesn't have a Fence and replace those values with None.",
      "metadata": {}
    },
    {
      "cell_type": "code",
      "source": "houses[\"Fence\"] = houses[\"Fence\"].fillna('None')",
      "execution_count": null,
      "outputs": [],
      "metadata": {}
    },
    {
      "cell_type": "markdown",
      "source": "*MiscFeature*\n-----------------------",
      "metadata": {}
    },
    {
      "cell_type": "code",
      "source": "sns.barplot(houses[\"MiscFeature\"],houses[\"SalePrice\"])\nplt.title(\"Miscelleneous Features  Vs SalePrice \")\nplt.ylabel(\"SalePrice\")\nplt.xlabel(\"Type of Miscelleneous Features\");",
      "execution_count": null,
      "outputs": [],
      "metadata": {}
    },
    {
      "cell_type": "code",
      "source": "#Some houses don't have miscellaneous features like shed, Tennis court etc..\nhouses[\"MiscFeature\"] = houses[\"MiscFeature\"].fillna('None')",
      "execution_count": null,
      "outputs": [],
      "metadata": {}
    },
    {
      "cell_type": "code",
      "source": "#Let's confirm that we have removed all missing values\nhouses[null_columns].isnull().sum()",
      "execution_count": null,
      "outputs": [],
      "metadata": {}
    },
    {
      "cell_type": "markdown",
      "source": "**Visualizations**\n==================",
      "metadata": {}
    },
    {
      "cell_type": "markdown",
      "source": "*MSZoning*\n-----------",
      "metadata": {}
    },
    {
      "cell_type": "code",
      "source": "\nlabels = houses[\"MSZoning\"].unique()\nsizes = houses[\"MSZoning\"].value_counts().values\nexplode=[0.1,0,0,0,0]\nparcent = 100.*sizes/sizes.sum()\nlabels = ['{0} - {1:1.1f} %'.format(i,j) for i,j in zip(labels, parcent)]\n\ncolors = ['yellowgreen', 'gold', 'lightblue', 'lightcoral','blue']\npatches, texts= plt.pie(sizes, colors=colors,explode=explode,\n                        shadow=True,startangle=90)\nplt.legend(patches, labels, loc=\"best\")\n\nplt.title(\"Zoning Classification\")\nplt.show()\n\n\n\nsns.violinplot(houses.MSZoning,houses[\"SalePrice\"])\nplt.title(\"MSZoning wrt Sale Price\")\nplt.xlabel(\"MSZoning\")\nplt.ylabel(\"Sale Price\");",
      "execution_count": null,
      "outputs": [],
      "metadata": {}
    },
    {
      "cell_type": "markdown",
      "source": "*1st Floor in square feet*\n--------------------------",
      "metadata": {}
    },
    {
      "cell_type": "code",
      "source": "plt.scatter(houses[\"1stFlrSF\"],houses.SalePrice, color='red')\nplt.title(\"Sale Price wrt 1st floor\")\nplt.ylabel('Sale Price (in dollars)')\nplt.xlabel(\"1st Floor in square feet\");",
      "execution_count": null,
      "outputs": [],
      "metadata": {}
    },
    {
      "cell_type": "markdown",
      "source": "*Ground Living Area w.r.t SalePrice*\n--------------------",
      "metadata": {}
    },
    {
      "cell_type": "code",
      "source": "plt.scatter( houses[\"GrLivArea\"],houses[\"SalePrice\"],color='purple')\nplt.title(\"Sale Price wrt Ground living area\")\nplt.ylabel('Sale Price')\nplt.xlabel(\"Ground living area\");",
      "execution_count": null,
      "outputs": [],
      "metadata": {}
    },
    {
      "cell_type": "markdown",
      "source": "*SalePrice per square foot*\n--------------------",
      "metadata": {}
    },
    {
      "cell_type": "code",
      "source": "houses['SalePriceSF'] = houses['SalePrice']/houses['GrLivArea']\nplt.hist(houses['SalePriceSF'], bins=15,color=\"gold\")\nplt.title(\"Sale Price per Square Foot\")\nplt.ylabel('Number of Sales')\nplt.xlabel('Price per square feet');",
      "execution_count": null,
      "outputs": [],
      "metadata": {}
    },
    {
      "cell_type": "code",
      "source": "#Average Sale Price per square feet \nprint(\"$\",houses.SalePriceSF.mean())",
      "execution_count": null,
      "outputs": [],
      "metadata": {}
    },
    {
      "cell_type": "markdown",
      "source": "*Garage Area*\n-------------",
      "metadata": {}
    },
    {
      "cell_type": "code",
      "source": "plt.scatter(houses[\"GarageArea\"],houses.SalePrice, color='green')\nplt.title(\"Sale Price vs Garage Area\")\nplt.ylabel('Sale Price(in dollars)')\nplt.xlabel(\"Garage Area in sq foot\");",
      "execution_count": null,
      "outputs": [],
      "metadata": {}
    },
    {
      "cell_type": "markdown",
      "source": "*Building , remodelling years and age of house*\n----------------------------------------",
      "metadata": {}
    },
    {
      "cell_type": "code",
      "source": "sns.distplot(houses[\"YearBuilt\"],color='seagreen');",
      "execution_count": null,
      "outputs": [],
      "metadata": {}
    },
    {
      "cell_type": "code",
      "source": "sns.distplot(houses[\"YearRemodAdd\"],color='r');",
      "execution_count": null,
      "outputs": [],
      "metadata": {}
    },
    {
      "cell_type": "code",
      "source": "houses['ConstructionAge'] = houses['YrSold'] - houses['YearBuilt']\nplt.scatter(houses['ConstructionAge'], houses['SalePriceSF'])\nplt.ylabel('Price per square foot (in dollars)')\nplt.xlabel(\"Construction Age of house\");",
      "execution_count": null,
      "outputs": [],
      "metadata": {}
    },
    {
      "cell_type": "markdown",
      "source": "Price of house goes down with its age.",
      "metadata": {}
    },
    {
      "cell_type": "markdown",
      "source": "*Heating and AC arrangements*\n-----------------------------",
      "metadata": {}
    },
    {
      "cell_type": "code",
      "source": "sns.stripplot(x=\"HeatingQC\", y=\"SalePrice\",data=houses,hue='CentralAir',jitter=True,split=True)\nplt.title(\"Sale Price vs Heating Quality\");",
      "execution_count": null,
      "outputs": [],
      "metadata": {}
    },
    {
      "cell_type": "markdown",
      "source": "Having AC definitely escalates price of house.",
      "metadata": {}
    },
    {
      "cell_type": "markdown",
      "source": "*Bathrooms in house*\n--------------------------",
      "metadata": {}
    },
    {
      "cell_type": "code",
      "source": "sns.boxplot(houses[\"FullBath\"],houses[\"SalePrice\"])\nplt.title(\"Sale Price vs Full Bathrooms\");",
      "execution_count": null,
      "outputs": [],
      "metadata": {}
    },
    {
      "cell_type": "code",
      "source": "sns.violinplot( houses[\"HalfBath\"],houses[\"SalePrice\"])\nplt.title(\"Sale Price vs Half Bathrooms\");",
      "execution_count": null,
      "outputs": [],
      "metadata": {}
    },
    {
      "cell_type": "markdown",
      "source": "*Total rooms above grade*\n-------------------------",
      "metadata": {}
    },
    {
      "cell_type": "code",
      "source": "sns.barplot(houses[\"TotRmsAbvGrd\"],houses[\"SalePrice\"],palette=\"Blues_d\")\nplt.title(\"Sale Price vs Number of rooms\");",
      "execution_count": null,
      "outputs": [],
      "metadata": {}
    },
    {
      "cell_type": "markdown",
      "source": "*Kitchen Quality*\n=================",
      "metadata": {}
    },
    {
      "cell_type": "code",
      "source": "sns.factorplot(\"KitchenAbvGr\",\"SalePrice\",data=houses,hue=\"KitchenQual\")\nplt.title(\"Sale Price vs Kitchen\");",
      "execution_count": null,
      "outputs": [],
      "metadata": {}
    },
    {
      "cell_type": "markdown",
      "source": "Having 1 Kitchen of Excellent quality hikes house price like anything.",
      "metadata": {}
    },
    {
      "cell_type": "markdown",
      "source": "*Neighbourhood*\n--------------",
      "metadata": {}
    },
    {
      "cell_type": "code",
      "source": "plt.xticks(rotation=45) \nsns.barplot(houses[\"Neighborhood\"],houses[\"SalePrice\"])\nplt.title(\"Sale Price vs Neighborhood\");",
      "execution_count": null,
      "outputs": [],
      "metadata": {}
    },
    {
      "cell_type": "markdown",
      "source": "*Overall Quality*\n-----------------",
      "metadata": {}
    },
    {
      "cell_type": "code",
      "source": "plt.barh(houses[\"OverallQual\"],width=houses[\"SalePrice\"],color=\"r\")\nplt.title(\"Sale Price vs Overall Quality of house\")\nplt.ylabel(\"Overall Quality of house\")\nplt.xlabel(\"Sale Price\");",
      "execution_count": null,
      "outputs": [],
      "metadata": {}
    },
    {
      "cell_type": "markdown",
      "source": "*2nd Floor with SalePrice*\n--------------------------",
      "metadata": {}
    },
    {
      "cell_type": "code",
      "source": "plt.scatter(houses[\"2ndFlrSF\"],houses[\"SalePrice\"],color=\"gold\")\nplt.title(\"Sale Price vs 2nd floor in sq feet\");\nplt.xlabel(\"2nd floor in sq feet\")\nplt.ylabel(\"Sale Price\");",
      "execution_count": null,
      "outputs": [],
      "metadata": {}
    },
    {
      "cell_type": "markdown",
      "source": "*Street*\n--------",
      "metadata": {}
    },
    {
      "cell_type": "code",
      "source": "#most streets are paved lets visulalize it\nsns.stripplot(x=houses[\"Street\"], y=houses[\"SalePrice\"],jitter=True)\nplt.title(\"Sale Price vs Streets\");",
      "execution_count": null,
      "outputs": [],
      "metadata": {}
    },
    {
      "cell_type": "markdown",
      "source": "More to come .. Watch this space.",
      "metadata": {}
    }
  ]
}