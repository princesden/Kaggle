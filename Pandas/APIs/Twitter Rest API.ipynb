{
 "cells": [
  {
   "cell_type": "markdown",
   "metadata": {},
   "source": [
    "# Twitter API for sentiment Analysis (REST API)"
   ]
  },
  {
   "cell_type": "markdown",
   "metadata": {},
   "source": [
    "# Import the library"
   ]
  },
  {
   "cell_type": "code",
   "execution_count": 1,
   "metadata": {
    "collapsed": true
   },
   "outputs": [],
   "source": [
    "import tweepy\n",
    "import pandas as pd\n",
    "import matplotlib.pyplot as plt\n",
    "\n",
    "pd.options.display.max_columns = 50\n",
    "pd.options.display.max_rows= 50\n",
    "pd.options.display.width= 120"
   ]
  },
  {
   "cell_type": "markdown",
   "metadata": {},
   "source": [
    "# Authentication"
   ]
  },
  {
   "cell_type": "code",
   "execution_count": 2,
   "metadata": {
    "collapsed": true
   },
   "outputs": [],
   "source": [
    "consumer_key = \"l6WroAAvOSe6469b8L51yMXHV\" # Use your own key. To get a key https://apps.twitter.com/\n",
    "consumer_secret = \"c7qS6B4K3sNYA3p5MevjcKOYRt5cfuWf7gak4p74MuA2OGwdcA\"\n",
    " \n",
    "auth = tweepy.OAuthHandler(consumer_key=consumer_key, consumer_secret=consumer_secret)\n",
    "\n",
    "api = tweepy.API(auth)\n"
   ]
  },
  {
   "cell_type": "markdown",
   "metadata": {},
   "source": [
    "# REST API"
   ]
  },
  {
   "cell_type": "markdown",
   "metadata": {},
   "source": [
    "## Searching for Tweets"
   ]
  },
  {
   "cell_type": "markdown",
   "metadata": {},
   "source": [
    "###`API.search(q[, lang][, locale][, rpp][, page][, since_id][, geocode][, show_user])`\n",
    "```\n",
    "\n",
    "    Returns tweets that match a specified query.\n",
    "    Parameters:\t\n",
    "\n",
    "        q – the search query string\n",
    "        lang – Restricts tweets to the given language, given by an ISO 639-1 code.\n",
    "        locale – Specify the language of the query you are sending. This is intended for language-specific clients and the default should work in the majority of cases.\n",
    "        rpp – The number of tweets to return per page, up to a max of 100.\n",
    "        page – The page number (starting at 1) to return, up to a max of roughly 1500 results (based on rpp * page.\n",
    "        geocode – Returns tweets by users located within a given radius of the given latitude/longitude. The location is preferentially taking from the Geotagging API, but will fall back to their Twitter profile. The parameter value is specified by “latitide,longitude,radius”, where radius units must be specified as either “mi” (miles) or “km” (kilometers). Note that you cannot use the near operator via the API to geocode arbitrary locations; however you can use this geocode parameter to search near geocodes directly.\n",
    "        show_user – When true, prepends “<user>:” to the beginning of the tweet. This is useful for readers that do not display Atom’s author field. The default is false.\n",
    "\n",
    "    Return type:\t\n",
    "\n",
    "    list of SearchResult objects\n",
    "```"
   ]
  },
  {
   "cell_type": "code",
   "execution_count": 3,
   "metadata": {
    "collapsed": true
   },
   "outputs": [],
   "source": [
    "results = api.search(q=\"Chelsea\")"
   ]
  },
  {
   "cell_type": "markdown",
   "metadata": {},
   "source": [
    "### Inspecting Results"
   ]
  },
  {
   "cell_type": "code",
   "execution_count": 19,
   "metadata": {
    "collapsed": false
   },
   "outputs": [
    {
     "data": {
      "text/plain": [
       "15"
      ]
     },
     "execution_count": 19,
     "metadata": {},
     "output_type": "execute_result"
    }
   ],
   "source": [
    "len(results)"
   ]
  },
  {
   "cell_type": "code",
   "execution_count": 44,
   "metadata": {
    "collapsed": false
   },
   "outputs": [
    {
     "name": "stdout",
     "output_type": "stream",
     "text": [
      "1\n"
     ]
    }
   ],
   "source": [
    "print(results)"
   ]
  },
  {
   "cell_type": "markdown",
   "metadata": {},
   "source": [
    "### Using Cursor for Pagination"
   ]
  },
  {
   "cell_type": "markdown",
   "metadata": {},
   "source": [
    "For data mining you will be dealing with a large amount of results. Cursor is a simple way to handle interation and results pages."
   ]
  },
  {
   "cell_type": "code",
   "execution_count": 45,
   "metadata": {
    "collapsed": false
   },
   "outputs": [
    {
     "data": {
      "text/plain": [
       "100"
      ]
     },
     "execution_count": 45,
     "metadata": {},
     "output_type": "execute_result"
    }
   ],
   "source": [
    "results = []\n",
    "for tweet in tweepy.Cursor(api.search, q=\"Chelsea\").items(100):\n",
    "    results.append(tweet)\n",
    "\n",
    "len(results)"
   ]
  },
  {
   "cell_type": "markdown",
   "metadata": {},
   "source": [
    "### Store Results in a Data Frame"
   ]
  },
  {
   "cell_type": "code",
   "execution_count": 40,
   "metadata": {
    "collapsed": true
   },
   "outputs": [],
   "source": [
    "def process_results(results):\n",
    "    id_list = [tweet.id for tweet in results]\n",
    "    data_set = pd.DataFrame(id_list, columns=[\"id\"])\n",
    "\n",
    "    # Processing Tweet Data\n",
    "\n",
    "    data_set[\"text\"] = [tweet.text for tweet in results]\n",
    "    data_set[\"created_at\"] = [tweet.created_at for tweet in results]\n",
    "    data_set[\"retweet_count\"] = [tweet.retweet_count for tweet in results]\n",
    "    data_set[\"favorite_count\"] = [tweet.favorite_count for tweet in results]\n",
    "    data_set[\"source\"] = [tweet.source for tweet in results]\n",
    "\n",
    "    # Processing User Data\n",
    "    data_set[\"user_id\"] = [tweet.author.id for tweet in results]\n",
    "    data_set[\"user_screen_name\"] = [tweet.author.screen_name for tweet in results]\n",
    "    data_set[\"user_name\"] = [tweet.author.name for tweet in results]\n",
    "    data_set[\"user_created_at\"] = [tweet.author.created_at for tweet in results]\n",
    "    data_set[\"user_description\"] = [tweet.author.description for tweet in results]\n",
    "    data_set[\"user_followers_count\"] = [tweet.author.followers_count for tweet in results]\n",
    "    data_set[\"user_friends_count\"] = [tweet.author.friends_count for tweet in results]\n",
    "    data_set[\"user_location\"] = [tweet.author.location for tweet in results]\n",
    "\n",
    "    return data_set\n",
    "data_set = process_results(results)"
   ]
  },
  {
   "cell_type": "code",
   "execution_count": 41,
   "metadata": {
    "collapsed": false
   },
   "outputs": [
    {
     "data": {
      "text/plain": [
       "1000"
      ]
     },
     "execution_count": 41,
     "metadata": {},
     "output_type": "execute_result"
    }
   ],
   "source": [
    "len(data_set)"
   ]
  },
  {
   "cell_type": "markdown",
   "metadata": {},
   "source": [
    "## Looking at the Data"
   ]
  },
  {
   "cell_type": "code",
   "execution_count": 42,
   "metadata": {
    "collapsed": false
   },
   "outputs": [
    {
     "data": {
      "text/html": [
       "<div>\n",
       "<table border=\"1\" class=\"dataframe\">\n",
       "  <thead>\n",
       "    <tr style=\"text-align: right;\">\n",
       "      <th></th>\n",
       "      <th>id</th>\n",
       "      <th>text</th>\n",
       "      <th>created_at</th>\n",
       "      <th>retweet_count</th>\n",
       "      <th>favorite_count</th>\n",
       "      <th>source</th>\n",
       "      <th>user_id</th>\n",
       "      <th>user_screen_name</th>\n",
       "      <th>user_name</th>\n",
       "      <th>user_created_at</th>\n",
       "      <th>user_description</th>\n",
       "      <th>user_followers_count</th>\n",
       "      <th>user_friends_count</th>\n",
       "      <th>user_location</th>\n",
       "    </tr>\n",
       "  </thead>\n",
       "  <tbody>\n",
       "    <tr>\n",
       "      <th>0</th>\n",
       "      <td>655965902505013248</td>\n",
       "      <td>RT @FranCifelli: @Surfermom77 @HillaryClinton ...</td>\n",
       "      <td>2015-10-19 04:37:13</td>\n",
       "      <td>1</td>\n",
       "      <td>0</td>\n",
       "      <td>Twitter for iPhone</td>\n",
       "      <td>193357080</td>\n",
       "      <td>MyCrashIs</td>\n",
       "      <td>crazymama</td>\n",
       "      <td>2010-09-21 16:36:26</td>\n",
       "      <td></td>\n",
       "      <td>253</td>\n",
       "      <td>1075</td>\n",
       "      <td></td>\n",
       "    </tr>\n",
       "    <tr>\n",
       "      <th>1</th>\n",
       "      <td>655965901863391232</td>\n",
       "      <td>Goodmorning Chelsea Fans</td>\n",
       "      <td>2015-10-19 04:37:12</td>\n",
       "      <td>0</td>\n",
       "      <td>0</td>\n",
       "      <td>Twitter for Android</td>\n",
       "      <td>358160535</td>\n",
       "      <td>Tunnyking</td>\n",
       "      <td>Elvis Tunde</td>\n",
       "      <td>2011-08-19 13:43:06</td>\n",
       "      <td>CONGRATULATIONS... You're The 100th Person To ...</td>\n",
       "      <td>3086</td>\n",
       "      <td>1263</td>\n",
       "      <td>Fulham Road</td>\n",
       "    </tr>\n",
       "    <tr>\n",
       "      <th>2</th>\n",
       "      <td>655965900479201281</td>\n",
       "      <td>Pernikahan Mewah Chelsea Olivia Jadi Sorotan M...</td>\n",
       "      <td>2015-10-19 04:37:12</td>\n",
       "      <td>0</td>\n",
       "      <td>0</td>\n",
       "      <td>dlvr.it</td>\n",
       "      <td>259133172</td>\n",
       "      <td>dasomkiddo</td>\n",
       "      <td>lee dasom</td>\n",
       "      <td>2011-03-01 05:52:02</td>\n",
       "      <td>fake kiddo — pard of lee dasom ulzzang — 89lines</td>\n",
       "      <td>2576</td>\n",
       "      <td>2081</td>\n",
       "      <td></td>\n",
       "    </tr>\n",
       "    <tr>\n",
       "      <th>3</th>\n",
       "      <td>655965896813383681</td>\n",
       "      <td>Pernikahan Mewah Chelsea Olivia Jadi Sorotan M...</td>\n",
       "      <td>2015-10-19 04:37:11</td>\n",
       "      <td>0</td>\n",
       "      <td>0</td>\n",
       "      <td>dlvr.it</td>\n",
       "      <td>993196357</td>\n",
       "      <td>Shine_SulliFx</td>\n",
       "      <td>Choi Jinri</td>\n",
       "      <td>2012-12-06 14:33:43</td>\n",
       "      <td>[VRP] of @ShineHouse_RP | fx's Sulli imnida♥ #...</td>\n",
       "      <td>224</td>\n",
       "      <td>18</td>\n",
       "      <td></td>\n",
       "    </tr>\n",
       "    <tr>\n",
       "      <th>4</th>\n",
       "      <td>655965895391514624</td>\n",
       "      <td>dika kakina DikaKakina :\\nPernikahan Mewah Che...</td>\n",
       "      <td>2015-10-19 04:37:11</td>\n",
       "      <td>0</td>\n",
       "      <td>0</td>\n",
       "      <td>IFTTT</td>\n",
       "      <td>3325436005</td>\n",
       "      <td>SenonGorosi</td>\n",
       "      <td>senon gorosi</td>\n",
       "      <td>2015-08-23 01:41:06</td>\n",
       "      <td>pepek senon</td>\n",
       "      <td>139</td>\n",
       "      <td>85</td>\n",
       "      <td>Republik Indonesien</td>\n",
       "    </tr>\n",
       "  </tbody>\n",
       "</table>\n",
       "</div>"
      ],
      "text/plain": [
       "                   id                                               text          created_at  retweet_count  \\\n",
       "0  655965902505013248  RT @FranCifelli: @Surfermom77 @HillaryClinton ... 2015-10-19 04:37:13              1   \n",
       "1  655965901863391232                           Goodmorning Chelsea Fans 2015-10-19 04:37:12              0   \n",
       "2  655965900479201281  Pernikahan Mewah Chelsea Olivia Jadi Sorotan M... 2015-10-19 04:37:12              0   \n",
       "3  655965896813383681  Pernikahan Mewah Chelsea Olivia Jadi Sorotan M... 2015-10-19 04:37:11              0   \n",
       "4  655965895391514624  dika kakina DikaKakina :\\nPernikahan Mewah Che... 2015-10-19 04:37:11              0   \n",
       "\n",
       "   favorite_count               source     user_id user_screen_name     user_name     user_created_at  \\\n",
       "0               0   Twitter for iPhone   193357080        MyCrashIs     crazymama 2010-09-21 16:36:26   \n",
       "1               0  Twitter for Android   358160535        Tunnyking   Elvis Tunde 2011-08-19 13:43:06   \n",
       "2               0              dlvr.it   259133172       dasomkiddo     lee dasom 2011-03-01 05:52:02   \n",
       "3               0              dlvr.it   993196357    Shine_SulliFx    Choi Jinri 2012-12-06 14:33:43   \n",
       "4               0                IFTTT  3325436005      SenonGorosi  senon gorosi 2015-08-23 01:41:06   \n",
       "\n",
       "                                    user_description  user_followers_count  user_friends_count        user_location  \n",
       "0                                                                      253                1075                       \n",
       "1  CONGRATULATIONS... You're The 100th Person To ...                  3086                1263         Fulham Road   \n",
       "2   fake kiddo — pard of lee dasom ulzzang — 89lines                  2576                2081                       \n",
       "3  [VRP] of @ShineHouse_RP | fx's Sulli imnida♥ #...                   224                  18                       \n",
       "4                                        pepek senon                   139                  85  Republik Indonesien  "
      ]
     },
     "execution_count": 42,
     "metadata": {},
     "output_type": "execute_result"
    }
   ],
   "source": [
    "data_set.head(5)"
   ]
  },
  {
   "cell_type": "code",
   "execution_count": 43,
   "metadata": {
    "collapsed": true
   },
   "outputs": [],
   "source": [
    "data_set.to_csv('text2.csv')"
   ]
  }
 ],
 "metadata": {
  "kernelspec": {
   "display_name": "Python 3",
   "language": "python",
   "name": "python3"
  },
  "language_info": {
   "codemirror_mode": {
    "name": "ipython",
    "version": 3
   },
   "file_extension": ".py",
   "mimetype": "text/x-python",
   "name": "python",
   "nbconvert_exporter": "python",
   "pygments_lexer": "ipython3",
   "version": "3.4.3"
  }
 },
 "nbformat": 4,
 "nbformat_minor": 0
}
